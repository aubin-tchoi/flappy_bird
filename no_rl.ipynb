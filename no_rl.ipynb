{
 "cells": [
  {
   "cell_type": "markdown",
   "source": [
    "# Flappy Bird"
   ],
   "metadata": {
    "collapsed": false
   }
  },
  {
   "cell_type": "code",
   "execution_count": 1,
   "metadata": {
    "collapsed": true
   },
   "outputs": [],
   "source": [
    "# @ title Imports\n",
    "import numpy as np\n",
    "from deep_rl.environments.flappy_bird import FlappyBird\n",
    "\n",
    "from src import infer_parameters, TreeBuilder, predict_trajectory_success_rate"
   ]
  },
  {
   "cell_type": "code",
   "execution_count": 2,
   "outputs": [],
   "source": [
    "params = {\"gravity\": 0.05, \"force_push\": 0.1, \"vx\": 0.05}\n",
    "env = FlappyBird(**params, prob_new_bar=1, max_height_bar=0.5)"
   ],
   "metadata": {
    "collapsed": false
   }
  },
  {
   "cell_type": "code",
   "execution_count": 3,
   "outputs": [],
   "source": [
    "# @ title Inferring the parameters\n",
    "gravity, force_push, vx = infer_parameters(env)\n",
    "assert np.allclose(\n",
    "    [gravity, force_push, vx],\n",
    "    (\n",
    "        params[\"gravity\"],\n",
    "        params[\"force_push\"],\n",
    "        params[\"vx\"],\n",
    "    ),\n",
    "    rtol=3,\n",
    "), \"Parameters inference failed\""
   ],
   "metadata": {
    "collapsed": false
   }
  },
  {
   "cell_type": "code",
   "execution_count": 5,
   "outputs": [],
   "source": [
    "# @title Building the tree\n",
    "env.reset()\n",
    "(bird_x, bird_y, bird_vy), bars = env.step(0)[0]\n",
    "tree_builder = TreeBuilder(bars, gravity, force_push, vx)\n",
    "tree = tree_builder.build_tree(bird_x, bird_y, bird_vy)"
   ],
   "metadata": {
    "collapsed": false
   }
  },
  {
   "cell_type": "code",
   "execution_count": null,
   "outputs": [],
   "source": [
    "print(\n",
    "    f\"Number of favorable outcomes: {tree.sum()} / {tree.shape[0]} ({tree.mean() * 100:.2f}%)\"\n",
    ")\n",
    "print(\"The two probabilities below are conditional to the current state.\")\n",
    "print(\n",
    "    f\"Probability of losing when standing still: {predict_trajectory_success_rate(tree, 0):.2f}\"\n",
    ")\n",
    "print(\n",
    "    f\"Probability of losing when jumping: {predict_trajectory_success_rate(tree, 1):.2f}\"\n",
    ")"
   ],
   "metadata": {
    "collapsed": false
   }
  }
 ],
 "metadata": {
  "kernelspec": {
   "display_name": "Python 3",
   "language": "python",
   "name": "python3"
  },
  "language_info": {
   "codemirror_mode": {
    "name": "ipython",
    "version": 2
   },
   "file_extension": ".py",
   "mimetype": "text/x-python",
   "name": "python",
   "nbconvert_exporter": "python",
   "pygments_lexer": "ipython2",
   "version": "2.7.6"
  }
 },
 "nbformat": 4,
 "nbformat_minor": 0
}
